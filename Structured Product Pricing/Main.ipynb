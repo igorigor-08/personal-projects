{
 "cells": [
  {
   "cell_type": "markdown",
   "metadata": {},
   "source": [
    "# Structured Product Pricing"
   ]
  },
  {
   "cell_type": "code",
   "execution_count": 1,
   "metadata": {},
   "outputs": [],
   "source": [
    "import numpy as np\n",
    "import pandas as pd\n",
    "from datetime import datetime\n",
    "from statistics import NormalDist\n",
    "from numpy.random import default_rng\n",
    "from scipy import optimize"
   ]
  },
  {
   "cell_type": "markdown",
   "metadata": {},
   "source": [
    "Importing the historical data on IMOEX index performance:"
   ]
  },
  {
   "cell_type": "code",
   "execution_count": 2,
   "metadata": {},
   "outputs": [],
   "source": [
    "df = pd.read_csv(\"IMOEX_data.csv\")\n",
    "df.rename(columns = lambda x : x.lower(), inplace=True)"
   ]
  },
  {
   "cell_type": "code",
   "execution_count": 3,
   "metadata": {},
   "outputs": [],
   "source": [
    "# transform dates from string format to datetime\n",
    "df['date'] = df.apply(lambda row : datetime.strptime(row['tradedate'], '%d.%m.%Y'), axis=1)"
   ]
  },
  {
   "cell_type": "markdown",
   "metadata": {},
   "source": [
    "## Calculating index volatility"
   ]
  },
  {
   "cell_type": "code",
   "execution_count": 4,
   "metadata": {},
   "outputs": [],
   "source": [
    "# to calculate volatility, we need daily returns of the index\n",
    "df['return'] = np.log(df['close']).diff()"
   ]
  },
  {
   "cell_type": "markdown",
   "metadata": {},
   "source": [
    "By proprety of Brownian motion, historical annual volatility of asset returns is daily volatility times $\\sqrt{T}$. It is assumed that there are 252 trading days a year."
   ]
  },
  {
   "cell_type": "code",
   "execution_count": 5,
   "metadata": {},
   "outputs": [
    {
     "data": {
      "text/plain": [
       "0.3548295919136726"
      ]
     },
     "execution_count": 5,
     "metadata": {},
     "output_type": "execute_result"
    }
   ],
   "source": [
    "vol = np.std(df['return']) * np.sqrt(252)\n",
    "vol"
   ]
  },
  {
   "cell_type": "markdown",
   "metadata": {},
   "source": [
    "Hence, the historical annual volatility of IMOEX index is 35.48%."
   ]
  },
  {
   "cell_type": "markdown",
   "metadata": {},
   "source": [
    "## Pricing ATM European call and put by Black-Scholes"
   ]
  },
  {
   "cell_type": "markdown",
   "metadata": {},
   "source": [
    "For this task, it is assumed that last close price of the asset is one currency unit"
   ]
  },
  {
   "cell_type": "code",
   "execution_count": 10,
   "metadata": {},
   "outputs": [
    {
     "name": "stdout",
     "output_type": "stream",
     "text": [
      "European call price is 0.34 times S0, European put price is 0.12 times S0\n"
     ]
    }
   ],
   "source": [
    "# defining risk-free rate and maturity\n",
    "rfr, maturity = 0.08, 3\n",
    "last_close = 1\n",
    "\n",
    "# define a function that prices the derivatives using Black-Scholes model\n",
    "def BS(S0, K, r, s, T):\n",
    "    \n",
    "    '''\n",
    "    S0 – today's price of the asset\n",
    "    K – strike price\n",
    "    r - risk-free rate\n",
    "    s - volatility\n",
    "    T - maturity\n",
    "    '''\n",
    "    \n",
    "    d1 = (np.log(S0 / K) + (r + s**2 / 2) * T) / (s * np.sqrt(T))\n",
    "    d2 = d1 - s * np.sqrt(T)\n",
    "    \n",
    "    call = S0 * NormalDist().cdf(d1) - K * np.exp(-r*T) * NormalDist().cdf(d2)\n",
    "    put = call + K * np.exp(-r*T) - S0 # by put-call parity\n",
    "    \n",
    "    return call, put\n",
    "\n",
    "# calling the function\n",
    "c, p = BS(\n",
    "    S0 = last_close,\n",
    "    K = last_close,\n",
    "    r = rfr,\n",
    "    s = vol,\n",
    "    T = maturity\n",
    ")\n",
    "\n",
    "print(f\"European call price is {c:.2f} times S0, European put price is {p:.2f} times S0\")"
   ]
  },
  {
   "cell_type": "markdown",
   "metadata": {},
   "source": [
    "Hence, the European call is approx. 34% of today's price, while European put costs 12% of today's price"
   ]
  },
  {
   "cell_type": "markdown",
   "metadata": {},
   "source": [
    "## Pricing ATM European call and put by Monte Carlo simulation"
   ]
  },
  {
   "cell_type": "markdown",
   "metadata": {},
   "source": [
    "For the purposes of this task the index is assumed to be following a stochatic process with a trend and a Brownian motion component:\n",
    "\n",
    "$$\n",
    "dS = \\mu S dt + \\sigma S dB_t\n",
    "$$\n",
    "\n",
    "... where $\\mu$ is the mean annual return, which equals risk-free rate in the risk-neutral world, and $\\sigma$ is the annual volatility of the index.\n",
    "\n",
    "By Itô's lemma, the process followed by $\\ln S$ is:\n",
    "\n",
    "$$\n",
    "d(\\ln S) = \\left( \\frac{\\partial \\ln S}{\\partial t} + \\frac{\\partial \\ln S}{\\partial S} \\mu S + \\frac{1}{2} \\frac{\\partial^2 \\ln S}{\\partial S^2} \\sigma^2 S^2  \\right)dt + \\frac{\\partial \\ln S}{\\partial S} \\sigma S dB_t = \\left( \\mu - \\frac{\\sigma^2}{2} \\right) dt + \\sigma dB_t\n",
    "$$\n",
    "\n",
    "The incremental change in log-index-value is:\n",
    "\n",
    "$$\n",
    "\\ln S_T - \\ln S_0 = \\left( r_f - \\frac{\\sigma^2}{2} \\right)T + \\sigma \\varepsilon \\sqrt{T}\n",
    "$$\n",
    "\n",
    "... where $\\varepsilon$ is a standard normal random variable.\n",
    "\n",
    "Hence, the index value at maturity is:\n",
    "\n",
    "$$\n",
    "S_T = S_0 \\exp{\\left( \\left( r_f - \\frac{\\sigma^2}{2} \\right) T + \\sigma \\varepsilon \\sqrt{T} \\right)}\n",
    "$$"
   ]
  },
  {
   "cell_type": "code",
   "execution_count": 13,
   "metadata": {},
   "outputs": [
    {
     "name": "stdout",
     "output_type": "stream",
     "text": [
      "European call price is 0.34 times S0, European put price is 0.13 times S0 using Monte Carlo simulation\n"
     ]
    }
   ],
   "source": [
    "# calculating a sample of some possible index values at option maturity\n",
    "epsilon = default_rng(seed=42).normal(size=10000)\n",
    "ST = last_close * np.exp((rfr - vol**2 / 2) * maturity + vol * epsilon * np.sqrt(maturity))\n",
    "\n",
    "# for each index value calculate option value at maturity (= option payoff)\n",
    "call_payoffs = np.fmax(0, ST - last_close)\n",
    "put_payoffs = np.fmax(0, last_close - ST)\n",
    "\n",
    "# now averaging all the option values at discount back to now at risk-free rate\n",
    "c_mc = np.mean(call_payoffs)*np.exp(-rfr*maturity)\n",
    "p_mc = np.mean(put_payoffs)*np.exp(-rfr*maturity)\n",
    "\n",
    "print(f\"European call price is {c_mc:.2f} times S0, European put price is {p_mc:.2f} times S0 using Monte Carlo simulation\")"
   ]
  },
  {
   "cell_type": "markdown",
   "metadata": {},
   "source": [
    "It can be seen that the Monte Carlo valuation results are in line with the Black-Scholes valuation."
   ]
  },
  {
   "cell_type": "markdown",
   "metadata": {},
   "source": [
    "## Calculating the Greeks"
   ]
  },
  {
   "cell_type": "markdown",
   "metadata": {},
   "source": [
    "### Delta"
   ]
  },
  {
   "cell_type": "markdown",
   "metadata": {},
   "source": [
    "Delta of a European call option:\n",
    "$$\n",
    "\\Delta_C = N(d_1)\n",
    "$$\n",
    "Delta of a European put option:\n",
    "$$\n",
    "\\Delta_P = N(d_1) - 1\n",
    "$$"
   ]
  },
  {
   "cell_type": "code",
   "execution_count": 14,
   "metadata": {},
   "outputs": [
    {
     "name": "stdout",
     "output_type": "stream",
     "text": [
      "Call delta is 0.7573, put delta is -0.2427\n"
     ]
    }
   ],
   "source": [
    "d1 = ((rfr + vol**2 / 2) * maturity) / (vol * np.sqrt(maturity))\n",
    "delta_c = NormalDist().cdf(d1)\n",
    "delta_p = delta_c - 1\n",
    "print(f\"Call delta is {delta_c:.4f}, put delta is {delta_p:.4f}\")"
   ]
  },
  {
   "cell_type": "markdown",
   "metadata": {},
   "source": [
    "Now let's see how deltas respond to changes in volatility of the index:"
   ]
  },
  {
   "cell_type": "markdown",
   "metadata": {},
   "source": [
    "$$\n",
    "\\frac{\\partial \\Delta_C}{\\partial \\sigma} = \\frac{\\partial \\Delta_P}{\\partial \\sigma} = \\frac{\\partial N(d_1(\\sigma))}{\\partial \\sigma} = N'(d_1(\\sigma)) \\left( -\\frac{\\ln(S_0/K) + rT}{\\sigma^2 \\sqrt{T}} + \\frac{\\sqrt{T}}{2} \\right)\n",
    "$$\n",
    "\n",
    "...where $N'(x) = \\frac{1}{\\sqrt{2\\pi}}e^{-x^2/2}$ (pdf of the standard normal distribution)\n",
    "\n",
    "Given that $\\ln(S_0/K) = 0$ for ATM options:\n",
    "$$\n",
    "\\frac{\\partial \\Delta_C}{\\partial \\sigma} =\\frac{\\partial \\Delta_P}{\\partial \\sigma} = N'(d_1(\\sigma)) \\frac{(\\sigma - 2r)\\sqrt{T}}{2\\sigma^2}\n",
    "$$"
   ]
  },
  {
   "cell_type": "code",
   "execution_count": 77,
   "metadata": {},
   "outputs": [
    {
     "data": {
      "text/plain": [
       "0.41910371253269285"
      ]
     },
     "execution_count": 77,
     "metadata": {},
     "output_type": "execute_result"
    }
   ],
   "source": [
    "NormalDist().pdf(d1) * (vol - 2 * rfr) * np.sqrt(maturity) / (2 * vol**2)"
   ]
  },
  {
   "cell_type": "markdown",
   "metadata": {},
   "source": [
    "Derivative of delta wrt volatility is positive, so absolute value of call delta increases as the index becomes more volatile, while the absolute value of the put delta decreases."
   ]
  },
  {
   "cell_type": "markdown",
   "metadata": {},
   "source": [
    "### Vega"
   ]
  },
  {
   "cell_type": "markdown",
   "metadata": {},
   "source": [
    "Vega of a European call and put is defined as follows:\n",
    "$$\n",
    "\\mathcal{V} = S_0 \\sqrt{T} N'(d_1)\n",
    "$$"
   ]
  },
  {
   "cell_type": "code",
   "execution_count": 70,
   "metadata": {},
   "outputs": [
    {
     "name": "stdout",
     "output_type": "stream",
     "text": [
      "Call and put vega is 1283.6268\n"
     ]
    }
   ],
   "source": [
    "vega = last_close * np.sqrt(maturity) * NormalDist().pdf(d1)\n",
    "print(f\"Call and put vega is {vega:.4f}\")"
   ]
  },
  {
   "cell_type": "markdown",
   "metadata": {},
   "source": [
    "Now let's see how vega responds to changes in volatility of the underlying asset"
   ]
  },
  {
   "cell_type": "markdown",
   "metadata": {},
   "source": [
    "The derivative of vega wrt volatility:\n",
    "$$\n",
    "\\frac{\\partial \\mathcal{V}}{\\partial \\sigma} = S_0 \\sqrt{T} * \\frac{1}{\\sqrt{2\\pi}} * e^{-d_1(\\sigma)^2/2} * (-d_1(\\sigma)) * \\frac{\\partial d_1(\\sigma)}{\\partial \\sigma}\n",
    "$$\n",
    "\n",
    "As shown above, $\\frac{\\partial d_1(\\sigma)}{\\partial \\sigma} = \\frac{(\\sigma - 2r)\\sqrt{T}}{2\\sigma^2}$ for ATM options. Hence:\n",
    "$$\n",
    "\\frac{\\partial \\mathcal{V}}{\\partial \\sigma} = S_0 \\sqrt{T} * \\frac{1}{\\sqrt{2\\pi}} * e^{-d_1(\\sigma)^2/2} * (-d_1(\\sigma)) * \\frac{(\\sigma - 2r)\\sqrt{T}}{2\\sigma^2}\n",
    "$$"
   ]
  },
  {
   "cell_type": "code",
   "execution_count": 84,
   "metadata": {},
   "outputs": [
    {
     "data": {
      "text/plain": [
       "-1200.3717288338014"
      ]
     },
     "execution_count": 84,
     "metadata": {},
     "output_type": "execute_result"
    }
   ],
   "source": [
    "last_close * np.sqrt(maturity) / np.sqrt(2*np.pi) * np.exp(-d1**2/2) * (-d1) * (vol - 2 * rfr) * np.sqrt(maturity) / (2 * vol**2)"
   ]
  },
  {
   "cell_type": "markdown",
   "metadata": {},
   "source": [
    "The derivative of vega wrt volatility is negative in this setting, so as the index becomes more volatile, vega of the options decreases."
   ]
  },
  {
   "cell_type": "markdown",
   "metadata": {},
   "source": [
    "## Pricing a Structured Product"
   ]
  },
  {
   "cell_type": "markdown",
   "metadata": {},
   "source": [
    "Suppose there is a financial product which includes\n",
    "* a three-year zero-coupon bond with 100% protection\n",
    "* a three-year ATM call spread option\n",
    "and has the following conditions:\n",
    "\n"
    "|||\n",
    "|:--- | :---|\n",
    "| **Underlying asset** | IMOEX index |\n",
    "| **Maturity** | 3 years|\n",
    "| **Issue price** | 98% |\n",
    "| **Face value protection** | 100% |\n",
    "| **Embedded option** | 100-150% ATM call spread |\n",
    "| **Trader's fee (upfront)** | 2% |\n",
    "| **Risk-free rate** | 8% |\n",
    "| **Treasury rate** | 10% |\n"
   ]
  },
  {
   "cell_type": "markdown",
   "metadata": {},
   "source": [
    "### Optimal participation rate for a given spread"
   ]
  },
  {
   "cell_type": "markdown",
   "metadata": {},
   "source": [
    "Our goal is to find the right **participation rate** (option volume / bond face value) which would make 98% a fair issue price."
   ]
  },
  {
   "cell_type": "markdown",
   "metadata": {},
   "source": [
    "At t=0 the client transfers 98% of the face value (FV) to the bank to buy the bond. The bank, in turn, withholds 2% of FV as the fee, depositing it at treasury rate. At the same time, the bank writes an ATM call for the volume determined by the participation rate, and buys from the client an OTM call with 150% strike for the exact same volume.\n",
    "\n",
    "At t=3 the bank pays the client FV of the bond as well as the bottom line of the spread option."
   ]
  },
  {
   "cell_type": "markdown",
   "metadata": {},
   "source": [
    "Let's consider the present value of each of positions of both agents:\n",
    "\n",
    "$$\n",
    "PV_{bank} = 0.98 - e^{-r_t T} - 0.02 - k(c_{ATM} - c_{OTM})\n",
    "$$\n",
    "\n",
    "$$\n",
    "PV_{client} = -0.98 + e^{-r_f T} + k(c_{ATM} - c_{OTM})\n",
    "$$\n",
    "\n",
    "... where $r_t, r_f$ are the treasury rate and the risk-free rate, respectively, $k$ – participation rate, $c_{ATM}, c_{OTM}$ – European calls price for strikes 100% and 150%, respectively."
   ]
  },
  {
   "cell_type": "markdown",
   "metadata": {},
   "source": [
    "Given that ATM call option costs more than an OTM option, i.e. $c_{ATM} - c_{OTM} > 0$, we can see that the bank's PV linearly depends on participation rate with a negative slope, while the PV of the client also linearly depends on participaton rate, with a positive slope. It means that the bank should come up with a value of $k^*$ that would make the client's PV exactly zero. $k^*$ maximizes the PV of the bank's position while ensuing that taking the deal is at least as good for the client as not taking it (we assume that clients participate in zero-PV deals)."
   ]
  },
  {
   "cell_type": "code",
   "execution_count": 15,
   "metadata": {},
   "outputs": [
    {
     "name": "stdout",
     "output_type": "stream",
     "text": [
      "Participation rate: 1.24\n"
     ]
    }
   ],
   "source": [
    "p0, pnl, tr_rate, T = 0.98, 0.02, 0.1, 3\n",
    "\n",
    "# pricing the embedded call spread option (long ATM call + short OTM call)\n",
    "call_spread = BS(1, 1, rfr, vol, T)[0] - BS(1, 1.5, rfr, vol, T)[0]\n",
    "\n",
    "# participation rate at which client PV = 0\n",
    "k = (p0 - np.exp(-rfr * maturity))/call_spread\n",
    "\n",
    "print(f\"Participation rate: {k:.2f}\")"
   ]
  },
  {
   "cell_type": "code",
   "execution_count": 76,
   "metadata": {},
   "outputs": [
    {
     "name": "stdout",
     "output_type": "stream",
     "text": [
      "PV of the bank: 0.0258\n"
     ]
    }
   ],
   "source": [
    "# making sure that PV of the bank is still positive in this case\n",
    "PV_bank = p0 - np.exp(-tr_rate * T) - pnl - k * call_spread\n",
    "print(f\"PV of the bank: {PV_bank:.4f}\")"
   ]
  },
  {
   "cell_type": "markdown",
   "metadata": {},
   "source": [
    "So the optimal participation rate $k^*$ is 1.24."
   ]
  },
  {
   "cell_type": "markdown",
   "metadata": {},
   "source": [
    "### Optimal spread for a given participation rate"
   ]
  },
  {
   "cell_type": "markdown",
   "metadata": {},
   "source": [
    "Now suppose that the participation rate is exactly 1.00. In this case, to take the deal the client would need a wider spread to have more room for gains if the index grows above 150%."
   ]
  },
  {
   "cell_type": "markdown",
   "metadata": {},
   "source": [
    "$$\n",
    "c_{OTM} = c_{ATM} - (0.98 - e^{-r_f T})\n",
    "$$"
   ]
  },
  {
   "cell_type": "code",
   "execution_count": 17,
   "metadata": {},
   "outputs": [
    {
     "data": {
      "text/plain": [
       "0.14457777891041934"
      ]
     },
     "execution_count": 17,
     "metadata": {},
     "output_type": "execute_result"
    }
   ],
   "source": [
    "# calculating the required value of the optimal OTM call\n",
    "c_otm = BS(1, 1, rfr, vol, T)[0] - (p0 - np.exp(-rfr * maturity))\n",
    "c_otm"
   ]
  },
  {
   "cell_type": "markdown",
   "metadata": {},
   "source": [
    "Now using optimizer to find the strike price for which the OTM call would be worth 0.145"
   ]
  },
  {
   "cell_type": "code",
   "execution_count": 18,
   "metadata": {},
   "outputs": [
    {
     "data": {
      "text/plain": [
       "1.6919410849675551"
      ]
     },
     "execution_count": 18,
     "metadata": {},
     "output_type": "execute_result"
    }
   ],
   "source": [
    "optimize.root(\n",
    "    fun = lambda x : BS(1, x, rfr, vol, maturity)[0] - c_otm,\n",
    "    x0 = 1.5\n",
    ").x[0]"
   ]
  },
  {
   "cell_type": "code",
   "execution_count": 20,
   "metadata": {},
   "outputs": [
    {
     "data": {
      "text/plain": [
       "True"
      ]
     },
     "execution_count": 20,
     "metadata": {},
     "output_type": "execute_result"
    }
   ],
   "source": [
    "# making sure the bank earns positive PV\n",
    "p0 - np.exp(-tr_rate*maturity) - pnl - (BS(1, 1, rfr, vol, T)[0] - c_otm) > 0"
   ]
  },
  {
   "cell_type": "markdown",
   "metadata": {},
   "source": [
    "So if the participation rate is fixed at 100%, the optimal spread of the embedded option would be 100-169%."
   ]
  }
 ],
 "metadata": {
  "kernelspec": {
   "display_name": "Python 3",
   "language": "python",
   "name": "python3"
  },
  "language_info": {
   "codemirror_mode": {
    "name": "ipython",
    "version": 3
   },
   "file_extension": ".py",
   "mimetype": "text/x-python",
   "name": "python",
   "nbconvert_exporter": "python",
   "pygments_lexer": "ipython3",
   "version": "3.8.5"
  }
 },
 "nbformat": 4,
 "nbformat_minor": 4
}
